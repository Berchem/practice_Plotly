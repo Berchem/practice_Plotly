{
 "cells": [
  {
   "cell_type": "markdown",
   "metadata": {},
   "source": [
    "Given the odd of home is $odd_{home}$,\n",
    "\n",
    "the odd of away is $odd_{away}$,\n",
    "\n",
    "and the bookmaker holds the $margin$ (水錢)\n",
    "\n",
    "\\begin{align}\n",
    "\\frac{1}{odd_{home}} + \\frac{1}{odd_{away}} &= 1 + margin\\\\\n",
    "\\end{align}\n",
    "\n",
    "as known the pseudo probablity is the inverse odd\n",
    "\n",
    "\\begin{align}\n",
    "p_i = \\frac{1}{odd_{i}}\n",
    "\\end{align}\n",
    "\n",
    "the real probablity is\n",
    "\n",
    "\\begin{align}\n",
    "p = \\frac{p_i}{\\sum{p_i}}\n",
    "\\end{align}\n",
    "\n",
    "let the win probability of home is $p$\n",
    "\n",
    "\\begin{align}\n",
    "p &= \\frac{p_{home}}{p_{home}+p_{away}}\\\\\n",
    "p &= \\frac{\\frac{1}{odd_{home}}} {\\frac{1}{odd_{home}} + \\frac{1}{odd_{away}}}\\\\\n",
    "\\Rightarrow p &= \\frac{\\frac{1}{odd_{home}}} {1 + margin}\\\\\n",
    "\\Rightarrow odd_{home} &= \\frac{1}{p(1 + margin)}\n",
    "\\end{align}\n"
   ]
  },
  {
   "cell_type": "markdown",
   "metadata": {},
   "source": [
    "if the bookmaker sets the margin = 2.0%\n",
    "\n",
    "the win probablity of home = 0.36\n",
    "\n",
    "the win probablity of away = 0.64\n"
   ]
  },
  {
   "cell_type": "code",
   "execution_count": 23,
   "metadata": {},
   "outputs": [
    {
     "name": "stdout",
     "output_type": "stream",
     "text": [
      "odd_home: 2.731\n",
      "odd_away: 1.529\n"
     ]
    }
   ],
   "source": [
    "margin = 0.020 # 2.0%\n",
    "p_home = 0.359\n",
    "p_away = 1 - p_home\n",
    "\n",
    "odd_home = 1 / (p_home * (1 + margin))\n",
    "odd_away = 1 / (p_away * (1 + margin))\n",
    "print \"odd_home: %.3f\\nodd_away: %.3f\" % (odd_home, odd_away)"
   ]
  },
  {
   "cell_type": "markdown",
   "metadata": {},
   "source": [
    "see also \n",
    "<img src=\"Capture.PNG\">"
   ]
  },
  {
   "cell_type": "code",
   "execution_count": 22,
   "metadata": {},
   "outputs": [
    {
     "name": "stdout",
     "output_type": "stream",
     "text": [
      "p_home: 0.359\n",
      "p_away: 0.641\n"
     ]
    }
   ],
   "source": [
    "def odd2prob(odd):\n",
    "    return 1.0 / odd\n",
    "\n",
    "def total_prob(*odd):\n",
    "    return sum(odd2prob(i) for i in odd)\n",
    "\n",
    "def real_prob(*odd):\n",
    "    prob_total = total_prob(*odd)\n",
    "    return [odd2prob(i) / prob_total for i in odd]\n",
    "\n",
    "p_home, p_away = real_prob(2.73, 1.53)\n",
    "print \"p_home: %.3f\\np_away: %.3f\" % (p_home, p_away)"
   ]
  },
  {
   "cell_type": "code",
   "execution_count": null,
   "metadata": {},
   "outputs": [],
   "source": []
  }
 ],
 "metadata": {
  "kernelspec": {
   "display_name": "Python 2",
   "language": "python",
   "name": "python2"
  },
  "language_info": {
   "codemirror_mode": {
    "name": "ipython",
    "version": 2
   },
   "file_extension": ".py",
   "mimetype": "text/x-python",
   "name": "python",
   "nbconvert_exporter": "python",
   "pygments_lexer": "ipython2",
   "version": "2.7.15"
  }
 },
 "nbformat": 4,
 "nbformat_minor": 2
}
